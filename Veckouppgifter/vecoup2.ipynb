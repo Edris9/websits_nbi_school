{
 "cells": [
  {
   "cell_type": "markdown",
   "metadata": {},
   "source": [
    "2 Balder\n",
    "## För att få åka Balder på Liseberg måste man vara 130 cm lång. \n",
    "## Skriv ett program som kan säga om man får åka!\n"
   ]
  },
  {
   "cell_type": "code",
   "execution_count": 1,
   "metadata": {},
   "outputs": [
    {
     "name": "stdout",
     "output_type": "stream",
     "text": [
      "För höjd 121 cm: får inte åka\n",
      "För höjd 130 cm: får åka\n",
      "För höjd 155 cm: får åka\n"
     ]
    }
   ],
   "source": [
    "# Fråga användaren hur lång man är (i cm)\n",
    "# Skriv ut antingen \"Du får åka!\" eller \"Du får inte åka\"\n",
    "\n",
    "\"\"\"\n",
    "\n",
    "Varför just tre värden?\n",
    "Att välja tre värden kan vara tillräckligt för att testa programmets funktionalitet under olika förhållanden, och det gör det enklare att verifiera om alla möjliga resultat täcks. Här är en förklaring till varför tre värden är ett bra val:\n",
    "\n",
    "Ett värde som inte är tillåtet (121 cm): Detta säkerställer att programmet korrekt hanterar fall där värdet ligger under gränsen och inte ska tillåtas.\n",
    "Ett värde precis vid gränsen (130 cm): Här testar vi det exakta gränsvärdet för att se om programmet korrekt accepterar eller avvisar detta.\n",
    "Ett värde som är tillåtet (155 cm): Ett värde som ligger över gränsen, vilket ger möjlighet att kontrollera att programmet accepterar dessa värden korrekt.\n",
    "\n",
    "\n",
    "\"\"\"\n",
    "def kan_akta(hojd):\n",
    "    # Gränsen för att få åka är 130 cm\n",
    "    if hojd < 130:\n",
    "        return \"får inte åka\"\n",
    "    else:\n",
    "        return \"får åka\"\n",
    "\n",
    "# Testvärden\n",
    "testvarden = [121, 130, 155]\n",
    "\n",
    "# Skriv ut resultatet för varje testvärde\n",
    "for hojd in testvarden:\n",
    "    print(f\"För höjd {hojd} cm: {kan_akta(hojd)}\")\n"
   ]
  },
  {
   "cell_type": "markdown",
   "metadata": {},
   "source": [
    "## 3 Sportresultat\n",
    "#### Tottenham spelar mot Liverpool i Champions League. Skriv ett program som frågar användaren hur många mål respektive lag gjorde, och talar om vilket lag som vann.\n",
    "#### Exempel på output:\n"
   ]
  },
  {
   "cell_type": "code",
   "execution_count": 2,
   "metadata": {},
   "outputs": [
    {
     "name": "stdout",
     "output_type": "stream",
     "text": [
      "Tottenham vann!\n"
     ]
    }
   ],
   "source": [
    "# Version 1\n",
    "tottenham_mal = int(input(\"Hur många mål gjorde Tottenham? \"))\n",
    "liverpool_mal = int(input(\"Hur många mål gjorde Liverpool? \"))\n",
    "\n",
    "if tottenham_mal > liverpool_mal:\n",
    "    print(\"Tottenham vann!\")\n",
    "elif liverpool_mal > tottenham_mal:\n",
    "    print(\"Liverpool vann!\")\n",
    "else:\n",
    "    print(\"Oavgjort!\")\n"
   ]
  },
  {
   "cell_type": "code",
   "execution_count": 4,
   "metadata": {},
   "outputs": [
    {
     "name": "stdout",
     "output_type": "stream",
     "text": [
      "Liverpool vann!\n"
     ]
    }
   ],
   "source": [
    "# Version 2\n",
    "tottenham_mal = int(input(\"Hur många mål gjorde Tottenham? \"))\n",
    "liverpool_mal = int(input(\"Hur många mål gjorde Liverpool? \"))\n",
    "\n",
    "if tottenham_mal > liverpool_mal:\n",
    "    print(\"Tottenham vann!\")\n",
    "elif liverpool_mal > tottenham_mal:\n",
    "    print(\"Liverpool vann!\")\n",
    "else:\n",
    "    print(\"Det blev oavgjort!\")\n"
   ]
  },
  {
   "cell_type": "code",
   "execution_count": 5,
   "metadata": {},
   "outputs": [
    {
     "name": "stdout",
     "output_type": "stream",
     "text": [
      "Det blev oavgjort!\n"
     ]
    }
   ],
   "source": [
    "# Version 3\n",
    "tottenham_mal = int(input(\"Hur många mål gjorde Tottenham? \"))\n",
    "liverpool_mal = int(input(\"Hur många mål gjorde Liverpool? \"))\n",
    "\n",
    "if tottenham_mal > liverpool_mal:\n",
    "    print(f\"Tottenham vann med {tottenham_mal - liverpool_mal} mål!\")\n",
    "elif liverpool_mal > tottenham_mal:\n",
    "    print(f\"Liverpool vann med {liverpool_mal - tottenham_mal} mål!\")\n",
    "else:\n",
    "    print(\"Det blev oavgjort!\")\n"
   ]
  },
  {
   "cell_type": "markdown",
   "metadata": {},
   "source": [
    "## 4 Temperaturomvandling\n",
    "#### Skriv ett program som kan omvandla en temperatur i grader Celsius till grader Fahrenheit.\n",
    "#### Version 1, exempel på output:\n"
   ]
  },
  {
   "cell_type": "code",
   "execution_count": 6,
   "metadata": {},
   "outputs": [
    {
     "name": "stdout",
     "output_type": "stream",
     "text": [
      "Det blir 73.4 grader Fahrenheit.\n"
     ]
    }
   ],
   "source": [
    "# Version 1\n",
    "celsius = float(input(\"Skriv in en temperatur i grader Celsius: \"))\n",
    "fahrenheit = (celsius * 9/5) + 32\n",
    "print(f\"Det blir {fahrenheit:.1f} grader Fahrenheit.\")\n"
   ]
  },
  {
   "cell_type": "code",
   "execution_count": 8,
   "metadata": {},
   "outputs": [
    {
     "name": "stdout",
     "output_type": "stream",
     "text": [
      "Det blir -5.0 grader Celsius.\n"
     ]
    }
   ],
   "source": [
    "# Version 2\n",
    "temp_typ = input(\"Vill du ange temperaturen i Celsius (C) eller Fahrenheit (F)? \").upper()\n",
    "\n",
    "if temp_typ == \"C\":\n",
    "    celsius = float(input(\"Skriv in en temperatur i grader Celsius: \"))\n",
    "    fahrenheit = (celsius * 9/5) + 32\n",
    "    print(f\"Det blir {fahrenheit:.1f} grader Fahrenheit.\")\n",
    "elif temp_typ == \"F\":\n",
    "    fahrenheit = float(input(\"Skriv in en temperatur i grader Fahrenheit: \"))\n",
    "    celsius = (fahrenheit - 32) * 5/9\n",
    "    print(f\"Det blir {celsius:.1f} grader Celsius.\")\n",
    "else:\n",
    "    print(\"Ogiltigt val, vänligen välj C eller F.\")\n"
   ]
  },
  {
   "cell_type": "code",
   "execution_count": null,
   "metadata": {},
   "outputs": [],
   "source": []
  },
  {
   "cell_type": "markdown",
   "metadata": {},
   "source": [
    "## Miniräknare\n",
    "#### 1 Gör ett program som frågar användaren efter 3 tal. Sedan ska det räkna ut vad summan blir, och skriva ut på konsolen. (summa: tal1 + tal2 + tal3)\n"
   ]
  },
  {
   "cell_type": "code",
   "execution_count": 9,
   "metadata": {},
   "outputs": [
    {
     "name": "stdout",
     "output_type": "stream",
     "text": [
      "Summa: 88.0\n"
     ]
    }
   ],
   "source": [
    "# Version 1\n",
    "tal1 = float(input(\"Skriv in tal 1: \"))\n",
    "tal2 = float(input(\"Skriv in tal 2: \"))\n",
    "tal3 = float(input(\"Skriv in tal 3: \"))\n",
    "\n",
    "summa = tal1 + tal2 + tal3\n",
    "print(f\"Summa: {summa}\")\n"
   ]
  },
  {
   "cell_type": "code",
   "execution_count": 10,
   "metadata": {},
   "outputs": [
    {
     "name": "stdout",
     "output_type": "stream",
     "text": [
      "Största talet är: 43.0\n"
     ]
    }
   ],
   "source": [
    "# Version 2\n",
    "if tal1 >= tal2 and tal1 >= tal3:\n",
    "    print(f\"Största talet är: {tal1}\")\n",
    "elif tal2 >= tal1 and tal2 >= tal3:\n",
    "    print(f\"Största talet är: {tal2}\")\n",
    "else:\n",
    "    print(f\"Största talet är: {tal3}\")\n"
   ]
  },
  {
   "cell_type": "code",
   "execution_count": 11,
   "metadata": {},
   "outputs": [
    {
     "name": "stdout",
     "output_type": "stream",
     "text": [
      "Inga tal är lika.\n"
     ]
    }
   ],
   "source": [
    "# Version 3\n",
    "if tal1 == tal2 == tal3:\n",
    "    print(\"Alla tre tal är lika.\")\n",
    "elif tal1 == tal2 or tal1 == tal3 or tal2 == tal3:\n",
    "    print(\"Två tal är lika.\")\n",
    "else:\n",
    "    print(\"Inga tal är lika.\")\n",
    "\n"
   ]
  },
  {
   "cell_type": "code",
   "execution_count": 12,
   "metadata": {},
   "outputs": [
    {
     "name": "stdout",
     "output_type": "stream",
     "text": [
      "Det mellersta talet är: 23.0\n"
     ]
    }
   ],
   "source": [
    "# Version 4\n",
    "if tal1 != tal2 and tal1 != tal3 and tal2 != tal3:\n",
    "    # Sortera de tre talen för att hitta det mellersta\n",
    "    sorted_tal = sorted([tal1, tal2, tal3])\n",
    "    mellersta_tal = sorted_tal[1]\n",
    "    print(f\"Det mellersta talet är: {mellersta_tal}\")\n",
    "else:\n",
    "    print(\"Det finns inget mellersta tal eftersom två eller alla tal är lika.\")\n"
   ]
  }
 ],
 "metadata": {
  "kernelspec": {
   "display_name": "Python 3",
   "language": "python",
   "name": "python3"
  },
  "language_info": {
   "codemirror_mode": {
    "name": "ipython",
    "version": 3
   },
   "file_extension": ".py",
   "mimetype": "text/x-python",
   "name": "python",
   "nbconvert_exporter": "python",
   "pygments_lexer": "ipython3",
   "version": "3.10.8"
  }
 },
 "nbformat": 4,
 "nbformat_minor": 2
}
