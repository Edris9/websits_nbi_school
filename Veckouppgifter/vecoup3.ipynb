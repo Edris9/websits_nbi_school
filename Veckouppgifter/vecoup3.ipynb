{
 "cells": [
  {
   "cell_type": "markdown",
   "metadata": {},
   "source": [
    "# Öva på loopar och listor"
   ]
  },
  {
   "cell_type": "markdown",
   "metadata": {},
   "source": []
  },
  {
   "cell_type": "code",
   "execution_count": 3,
   "metadata": {},
   "outputs": [
    {
     "name": "stdout",
     "output_type": "stream",
     "text": [
      "Summan av talen 1 till 10 är: 55\n"
     ]
    }
   ],
   "source": [
    "answer = 0\n",
    "for i in range(1, 11):\n",
    "    answer += i\n",
    "print(\"Summan av talen 1 till 10 är: \" + str(answer))\n",
    "# Svaret ska bli 55\n"
   ]
  },
  {
   "cell_type": "code",
   "execution_count": null,
   "metadata": {},
   "outputs": [],
   "source": []
  },
  {
   "cell_type": "markdown",
   "metadata": {},
   "source": [
    "### Räkna ut summan av alla tal mellan 1 och 100. (inklusive 1 och 100, rätt svar ska bli 5050)\n"
   ]
  },
  {
   "cell_type": "code",
   "execution_count": 4,
   "metadata": {},
   "outputs": [
    {
     "name": "stdout",
     "output_type": "stream",
     "text": [
      "Summan av talen 1 till 100 är: 5050\n"
     ]
    }
   ],
   "source": [
    "answer = 0\n",
    "for i in range(1, 101):\n",
    "    answer += i\n",
    "print(\"Summan av talen 1 till 100 är: \" + str(answer))\n",
    "# Svaret ska bli 5050"
   ]
  },
  {
   "cell_type": "code",
   "execution_count": null,
   "metadata": {},
   "outputs": [],
   "source": []
  },
  {
   "cell_type": "markdown",
   "metadata": {},
   "source": [
    "### Skriv om 1b så att den använder en while-loop"
   ]
  },
  {
   "cell_type": "code",
   "execution_count": 5,
   "metadata": {},
   "outputs": [
    {
     "name": "stdout",
     "output_type": "stream",
     "text": [
      "Summan av talen 1 till 100 är: 5050\n"
     ]
    }
   ],
   "source": [
    "answer = 0\n",
    "i = 1\n",
    "while i <= 100:\n",
    "    answer += i\n",
    "    i += 1\n",
    "print(\"Summan av talen 1 till 100 är: \" + str(answer))\n"
   ]
  },
  {
   "cell_type": "code",
   "execution_count": null,
   "metadata": {},
   "outputs": [],
   "source": []
  },
  {
   "cell_type": "markdown",
   "metadata": {},
   "source": [
    "#### Räkna ut summan av alla elementen i listan"
   ]
  },
  {
   "cell_type": "code",
   "execution_count": 6,
   "metadata": {},
   "outputs": [
    {
     "name": "stdout",
     "output_type": "stream",
     "text": [
      "Summan av alla elementen i listan är: 1\n"
     ]
    }
   ],
   "source": [
    "numbers = [1, -2, 3, -2, 4, -3]\n",
    "sum_of_elements = 0\n",
    "for num in numbers:\n",
    "    sum_of_elements += num\n",
    "print(\"Summan av alla elementen i listan är: \" + str(sum_of_elements))\n"
   ]
  },
  {
   "cell_type": "markdown",
   "metadata": {},
   "source": []
  },
  {
   "cell_type": "code",
   "execution_count": 7,
   "metadata": {},
   "outputs": [
    {
     "name": "stdout",
     "output_type": "stream",
     "text": [
      "Lista med filmer: ['Inception', 'The Matrix', 'Interstellar', 'The Dark Knight']\n",
      "Efter append: ['Inception', 'The Matrix', 'Interstellar', 'The Dark Knight', 'Fellowship of the Ring']\n",
      "Efter insert: ['The Two Towers', 'Inception', 'The Matrix', 'Interstellar', 'The Dark Knight', 'Fellowship of the Ring']\n",
      "Fellowship of the Ring finns på index: 5\n",
      "Efter att en film tagits bort finns Fellowship-filmen på index: 4\n",
      "Listans längd: 5\n",
      "Baklänges: ['Fellowship of the Ring', 'The Dark Knight', 'Interstellar', 'Inception', 'The Two Towers']\n",
      "Sorterad lista: ['Fellowship of the Ring', 'Inception', 'Interstellar', 'The Dark Knight', 'The Two Towers']\n"
     ]
    }
   ],
   "source": [
    "# 3a Skapa en lista med fyra filmer\n",
    "filmer = [\"Inception\", \"The Matrix\", \"Interstellar\", \"The Dark Knight\"]\n",
    "print(f\"Lista med filmer: {filmer}\")\n",
    "\n",
    "# 3b Lägg till \"Fellowship of the Ring\" sist i listan\n",
    "filmer.append(\"Fellowship of the Ring\")\n",
    "print(f\"Efter append: {filmer}\")\n",
    "\n",
    "# 3c Lägg till \"The Two Towers\" på första platsen (index 0)\n",
    "filmer.insert(0, \"The Two Towers\")\n",
    "print(f\"Efter insert: {filmer}\")\n",
    "\n",
    "# 3d Ta reda på vilken position \"Fellowship of the Ring\" har nu\n",
    "index_fellowship = filmer.index(\"Fellowship of the Ring\")\n",
    "print(f\"Fellowship of the Ring finns på index: {index_fellowship}\")\n",
    "\n",
    "# 3e Ta bort en annan film och kontrollera om index ändras\n",
    "filmer.remove(\"The Matrix\")\n",
    "index_fellowship_efter = filmer.index(\"Fellowship of the Ring\")\n",
    "print(f\"Efter att en film tagits bort finns Fellowship-filmen på index: {index_fellowship_efter}\")\n",
    "\n",
    "# 3f Ta reda på hur lång listan är\n",
    "längd = len(filmer)\n",
    "print(f\"Listans längd: {längd}\")\n",
    "\n",
    "# 3g Vänd listan baklänges\n",
    "filmer.reverse()\n",
    "print(f\"Baklänges: {filmer}\")\n",
    "\n",
    "# 3h Sortera listan i bokstavsordning\n",
    "filmer.sort()\n",
    "print(f\"Sorterad lista: {filmer}\")\n"
   ]
  },
  {
   "cell_type": "code",
   "execution_count": null,
   "metadata": {},
   "outputs": [],
   "source": []
  },
  {
   "cell_type": "markdown",
   "metadata": {},
   "source": [
    "## 3 Kvittouträknaren"
   ]
  },
  {
   "cell_type": "code",
   "execution_count": 13,
   "metadata": {},
   "outputs": [
    {
     "name": "stdout",
     "output_type": "stream",
     "text": [
      "Välkommen till Kvittokompis! Avsluta genom att skriva: quit eller avsluta\n",
      "Det blir 297 kr totalt. Välkommen åter!\n"
     ]
    }
   ],
   "source": [
    "print(\"Välkommen till Kvittokompis! Avsluta genom att skriva: quit eller avsluta\")\n",
    "\n",
    "total = 0  # Variabel för att spara summan av talen\n",
    "\n",
    "while True:\n",
    "    belopp = input(\"Skriv in ett belopp: \")\n",
    "    \n",
    "    if belopp.lower() in [\"quit\", \"avsluta\"]:  # Avslutar om användaren skriver \"quit\" eller \"avsluta\"\n",
    "        break\n",
    "    \n",
    "    try:\n",
    "        total += int(belopp)  # Lägger till beloppet i summan\n",
    "    except ValueError:\n",
    "        print(\"Felaktig inmatning, ange ett tal.\")\n",
    "\n",
    "print(f\"Det blir {total} kr totalt. Välkommen åter!\")\n"
   ]
  },
  {
   "cell_type": "markdown",
   "metadata": {},
   "source": [
    "## Version 2_3"
   ]
  },
  {
   "cell_type": "code",
   "execution_count": 16,
   "metadata": {},
   "outputs": [
    {
     "name": "stdout",
     "output_type": "stream",
     "text": [
      "Det blir 150.00 kr totalt, alltså 1.50 kr per person. Välkommen åter!\n"
     ]
    }
   ],
   "source": [
    "total_sum = 75  \n",
    "num_people = int(input(\"Hur många är ni? \"))\n",
    "\n",
    "tip_input = input(\"Hur många procent dricks vill ni lägga på? (Tryck enter för standard 10%) \")\n",
    "tip_percentage = float(tip_input) if tip_input else 10  # Standard 10% om tom sträng\n",
    "\n",
    "total_with_tip = total_sum * (1 + tip_percentage / 100)\n",
    "per_person = total_with_tip / num_people\n",
    "\n",
    "print(f\"Det blir {total_with_tip:.2f} kr totalt, alltså {per_person:.2f} kr per person. Välkommen åter!\")\n"
   ]
  },
  {
   "cell_type": "code",
   "execution_count": null,
   "metadata": {},
   "outputs": [],
   "source": []
  },
  {
   "cell_type": "markdown",
   "metadata": {},
   "source": [
    "# 4 Figurer med loopar"
   ]
  },
  {
   "cell_type": "code",
   "execution_count": 20,
   "metadata": {},
   "outputs": [
    {
     "name": "stdout",
     "output_type": "stream",
     "text": [
      "#.......\n",
      ".#......\n",
      "..#.....\n",
      "...#....\n",
      "....#...\n",
      ".....#..\n",
      "**************************************************\n"
     ]
    }
   ],
   "source": [
    "for y in range(1, 7):\n",
    "    s = \"\"\n",
    "    for x in range(1, 9):\n",
    "        if x == y:\n",
    "            s += \"#\"\n",
    "        else:\n",
    "            s += \".\"\n",
    "    print(s)\n",
    "\n",
    "\n",
    "print(\"*\"*50)\n",
    "\n",
    "\n",
    "for y in range(1, 7):\n",
    "    s = \"\"\n",
    "    for x in range(1, 9):\n",
    "        if x == y:\n",
    "            s += \"#\"\n",
    "        else:\n",
    "            s += \".\"\n",
    "    print(s)\n",
    "\n"
   ]
  },
  {
   "cell_type": "code",
   "execution_count": 21,
   "metadata": {},
   "outputs": [
    {
     "name": "stdout",
     "output_type": "stream",
     "text": [
      "Diagonal Pattern:\n",
      "#.......\n",
      ".#......\n",
      "..#.....\n",
      "...#....\n",
      "....#...\n",
      ".....#..\n",
      "\n",
      "Reverse Diagonal Pattern:\n",
      ".......#\n",
      "......#.\n",
      ".....#..\n",
      "....#...\n",
      "...#....\n",
      "..#.....\n",
      "\n",
      "Sparse Diagonal Pattern:\n",
      "#......#\n",
      ".#....#.\n",
      "..#..#..\n",
      "...##...\n",
      "...##...\n",
      "..#..#..\n",
      "\n",
      "Checkerboard Pattern:\n",
      "#.#.#.#.\n",
      ".#.#.#.#\n",
      "#.#.#.#.\n",
      ".#.#.#.#\n",
      "#.#.#.#.\n",
      ".#.#.#.#\n",
      "\n",
      "Cross Pattern:\n",
      "#..#...#\n",
      ".#.#..#.\n",
      "########\n",
      "...##...\n",
      "...##...\n",
      "..##.#..\n"
     ]
    }
   ],
   "source": [
    "def generate_pattern(num_rows, num_cols, pattern_type):\n",
    "    for y in range(1, num_rows + 1):\n",
    "        s = \"\"\n",
    "        for x in range(1, num_cols + 1):\n",
    "            if pattern_type == 'diagonal':\n",
    "                # Diagonal pattern\n",
    "                s += \"#\" if x == y else \".\"\n",
    "            elif pattern_type == 'diagonal_reverse':\n",
    "                # Reverse diagonal pattern\n",
    "                s += \"#\" if x + y == num_cols + 1 else \".\"\n",
    "            elif pattern_type == 'sparse_diagonal':\n",
    "                # Sparse diagonal pattern\n",
    "                s += \"#\" if x == y or x + y == num_cols + 1 else \".\"\n",
    "            elif pattern_type == 'checkerboard':\n",
    "                # Checkerboard pattern\n",
    "                s += \"#\" if (x + y) % 2 == 0 else \".\"\n",
    "            elif pattern_type == 'cross':\n",
    "                # Cross pattern\n",
    "                s += \"#\" if x == y or x + y == num_cols + 1 or x == (num_cols + 1) // 2 or y == (num_rows + 1) // 2 else \".\"\n",
    "        print(s)\n",
    "\n",
    "# Generate all patterns\n",
    "print(\"Diagonal Pattern:\")\n",
    "generate_pattern(6, 8, 'diagonal')\n",
    "\n",
    "print(\"\\nReverse Diagonal Pattern:\")\n",
    "generate_pattern(6, 8, 'diagonal_reverse')\n",
    "\n",
    "print(\"\\nSparse Diagonal Pattern:\")\n",
    "generate_pattern(6, 8, 'sparse_diagonal')\n",
    "\n",
    "print(\"\\nCheckerboard Pattern:\")\n",
    "generate_pattern(6, 8, 'checkerboard')\n",
    "\n",
    "print(\"\\nCross Pattern:\")\n",
    "generate_pattern(6, 8, 'cross')"
   ]
  },
  {
   "cell_type": "code",
   "execution_count": null,
   "metadata": {},
   "outputs": [],
   "source": []
  },
  {
   "cell_type": "markdown",
   "metadata": {},
   "source": [
    "# 5 Gissa talet"
   ]
  },
  {
   "cell_type": "code",
   "execution_count": 23,
   "metadata": {},
   "outputs": [
    {
     "name": "stdout",
     "output_type": "stream",
     "text": [
      "Välkommen till gissa talet! Jag tänker på ett tal mellan 1 och 100. Kan du gissa vilket det är?\n",
      "Nej, det är för högt!\n",
      "Nej, det är för lågt!\n",
      "Nej, det är för lågt!\n",
      "Nej, det är för lågt!\n",
      "Nej, det är för lågt!\n",
      "Nej, det är för lågt!\n",
      "Nej, det är för lågt!\n",
      "Nej, det är för lågt!\n",
      "Nu börjar det brännas!\n",
      "Nej, det är för högt!\n",
      "Nu börjar det brännas!\n",
      "Det är rätt!! Du gjorde det på 12 gissningar.\n"
     ]
    }
   ],
   "source": [
    "\n",
    "import random\n",
    "\n",
    "\n",
    "\n",
    "print(\"Välkommen till gissa talet! Jag tänker på ett tal mellan 1 och 100. Kan du gissa vilket det är?\")\n",
    "secret = random.randint(1, 100)\n",
    "guesses = 0\n",
    "while True:\n",
    "    try:\n",
    "        guess = int(input(\"Gissa: \"))\n",
    "    except ValueError:\n",
    "        print(\"Felaktig inmatning, ange ett tal.\")\n",
    "        continue\n",
    "    guesses += 1\n",
    "    if guess == secret:\n",
    "        print(f\"Det är rätt!! Du gjorde det på {guesses} gissningar.\")\n",
    "        break\n",
    "    elif abs(guess - secret) <= 5:\n",
    "        print(\"Nu börjar det brännas!\")\n",
    "    elif guess < secret:\n",
    "        print(\"Nej, det är för lågt!\")\n",
    "    else:\n",
    "        print(\"Nej, det är för högt!\")\n"
   ]
  },
  {
   "cell_type": "code",
   "execution_count": null,
   "metadata": {},
   "outputs": [],
   "source": []
  },
  {
   "cell_type": "markdown",
   "metadata": {},
   "source": [
    "# Todo list (att göra-lista)"
   ]
  },
  {
   "cell_type": "code",
   "execution_count": 24,
   "metadata": {},
   "outputs": [
    {
     "name": "stdout",
     "output_type": "stream",
     "text": [
      "\n",
      "** Todo list extravaganza **\n",
      "1. Se innehållet i din lista\n",
      "2. Lägga till nya punkter i din lista\n",
      "3. Markera som klar\n",
      "4. Se avklarade punkter\n",
      "5. Återställ en avklarad punkt\n",
      "6. Avsluta\n",
      "Det finns inget att markera som klart.\n",
      "\n",
      "** Todo list extravaganza **\n",
      "1. Se innehållet i din lista\n",
      "2. Lägga till nya punkter i din lista\n",
      "3. Markera som klar\n",
      "4. Se avklarade punkter\n",
      "5. Återställ en avklarad punkt\n",
      "6. Avsluta\n",
      "Inga avklarade punkter.\n",
      "\n",
      "** Todo list extravaganza **\n",
      "1. Se innehållet i din lista\n",
      "2. Lägga till nya punkter i din lista\n",
      "3. Markera som klar\n",
      "4. Se avklarade punkter\n",
      "5. Återställ en avklarad punkt\n",
      "6. Avsluta\n",
      "Ogiltigt val, försök igen.\n",
      "\n",
      "** Todo list extravaganza **\n",
      "1. Se innehållet i din lista\n",
      "2. Lägga till nya punkter i din lista\n",
      "3. Markera som klar\n",
      "4. Se avklarade punkter\n",
      "5. Återställ en avklarad punkt\n",
      "6. Avsluta\n",
      "Ogiltigt val, försök igen.\n",
      "\n",
      "** Todo list extravaganza **\n",
      "1. Se innehållet i din lista\n",
      "2. Lägga till nya punkter i din lista\n",
      "3. Markera som klar\n",
      "4. Se avklarade punkter\n",
      "5. Återställ en avklarad punkt\n",
      "6. Avsluta\n",
      "Ogiltigt val, försök igen.\n",
      "\n",
      "** Todo list extravaganza **\n",
      "1. Se innehållet i din lista\n",
      "2. Lägga till nya punkter i din lista\n",
      "3. Markera som klar\n",
      "4. Se avklarade punkter\n",
      "5. Återställ en avklarad punkt\n",
      "6. Avsluta\n",
      "Det finns inget att markera som klart.\n",
      "\n",
      "** Todo list extravaganza **\n",
      "1. Se innehållet i din lista\n",
      "2. Lägga till nya punkter i din lista\n",
      "3. Markera som klar\n",
      "4. Se avklarade punkter\n",
      "5. Återställ en avklarad punkt\n",
      "6. Avsluta\n",
      "Din lista är tom\n",
      "\n",
      "** Todo list extravaganza **\n",
      "1. Se innehållet i din lista\n",
      "2. Lägga till nya punkter i din lista\n",
      "3. Markera som klar\n",
      "4. Se avklarade punkter\n",
      "5. Återställ en avklarad punkt\n",
      "6. Avsluta\n",
      "Din lista är tom\n",
      "\n",
      "** Todo list extravaganza **\n",
      "1. Se innehållet i din lista\n",
      "2. Lägga till nya punkter i din lista\n",
      "3. Markera som klar\n",
      "4. Se avklarade punkter\n",
      "5. Återställ en avklarad punkt\n",
      "6. Avsluta\n",
      "Ok, lade till \"sadfaf\" i listan.\n",
      "\n",
      "** Todo list extravaganza **\n",
      "1. Se innehållet i din lista\n",
      "2. Lägga till nya punkter i din lista\n",
      "3. Markera som klar\n",
      "4. Se avklarade punkter\n",
      "5. Återställ en avklarad punkt\n",
      "6. Avsluta\n",
      "Avslutar programmet...\n"
     ]
    }
   ],
   "source": [
    "todo_list = []\n",
    "done_list = []\n",
    "\n",
    "while True:\n",
    "    print(\"\\n** Todo list extravaganza **\")\n",
    "    print(\"1. Se innehållet i din lista\")\n",
    "    print(\"2. Lägga till nya punkter i din lista\")\n",
    "    print(\"3. Markera som klar\")\n",
    "    print(\"4. Se avklarade punkter\")\n",
    "    print(\"5. Återställ en avklarad punkt\")\n",
    "    print(\"6. Avsluta\")\n",
    "    \n",
    "    choice = input(\"Välj ett alternativ: \")\n",
    "    \n",
    "    if choice == \"1\":\n",
    "        if not todo_list:\n",
    "            print(\"Din lista är tom\")\n",
    "        else:\n",
    "            print(\"\\nAtt göra:\")\n",
    "            for item in todo_list:\n",
    "                print(f\"+ {item}\")\n",
    "    \n",
    "    elif choice == \"2\":\n",
    "        item = input(\"Skriv in en ny sak du måste komma ihåg att göra: \")\n",
    "        todo_list.append(item)\n",
    "        print(f\"Ok, lade till \\\"{item}\\\" i listan.\")\n",
    "    \n",
    "    elif choice == \"3\":\n",
    "        if not todo_list:\n",
    "            print(\"Det finns inget att markera som klart.\")\n",
    "        else:\n",
    "            print(\"\\nAtt göra:\")\n",
    "            for i, item in enumerate(todo_list, 1):\n",
    "                print(f\"{i}. {item}\")\n",
    "            index = int(input(\"Vilken punkt är klar? \")) - 1\n",
    "            if 0 <= index < len(todo_list):\n",
    "                done_list.append(todo_list.pop(index))\n",
    "                print(\"Punkt markerad som klar!\")\n",
    "            else:\n",
    "                print(\"Ogiltigt val.\")\n",
    "    \n",
    "    elif choice == \"4\":\n",
    "        if not done_list:\n",
    "            print(\"Inga avklarade punkter.\")\n",
    "        else:\n",
    "            print(\"\\nAvklarade punkter:\")\n",
    "            for item in done_list:\n",
    "                print(f\"- {item}\")\n",
    "    \n",
    "    elif choice == \"5\":\n",
    "        if not done_list:\n",
    "            print(\"Det finns inga avklarade punkter att återställa.\")\n",
    "        else:\n",
    "            print(\"\\nAvklarade punkter:\")\n",
    "            for i, item in enumerate(done_list, 1):\n",
    "                print(f\"{i}. {item}\")\n",
    "            index = int(input(\"Vilken punkt vill du lägga tillbaka i todo-listan? \")) - 1\n",
    "            if 0 <= index < len(done_list):\n",
    "                todo_list.append(done_list.pop(index))\n",
    "                print(\"Punkt återställd!\")\n",
    "            else:\n",
    "                print(\"Ogiltigt val.\")\n",
    "    \n",
    "    elif choice == \"6\":\n",
    "        print(\"Avslutar programmet...\")\n",
    "        break\n",
    "    else:\n",
    "        print(\"Ogiltigt val, försök igen.\")"
   ]
  },
  {
   "cell_type": "markdown",
   "metadata": {},
   "source": []
  }
 ],
 "metadata": {
  "kernelspec": {
   "display_name": "Python 3",
   "language": "python",
   "name": "python3"
  },
  "language_info": {
   "codemirror_mode": {
    "name": "ipython",
    "version": 3
   },
   "file_extension": ".py",
   "mimetype": "text/x-python",
   "name": "python",
   "nbconvert_exporter": "python",
   "pygments_lexer": "ipython3",
   "version": "3.10.8"
  }
 },
 "nbformat": 4,
 "nbformat_minor": 2
}
