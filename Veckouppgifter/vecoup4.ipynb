{
 "cells": [
  {
   "cell_type": "code",
   "execution_count": 18,
   "metadata": {},
   "outputs": [
    {
     "name": "stdout",
     "output_type": "stream",
     "text": [
      "125\n"
     ]
    }
   ],
   "source": [
    "def fun2(i):\n",
    "    return 5 * i\n",
    "\n",
    "x = 2\n",
    "y = 3\n",
    "a = fun2(fun2(x) + fun2(y))\n",
    "print(a)\n"
   ]
  },
  {
   "cell_type": "code",
   "execution_count": 19,
   "metadata": {},
   "outputs": [
    {
     "name": "stdout",
     "output_type": "stream",
     "text": [
      "7\n"
     ]
    }
   ],
   "source": [
    "a = 5\n",
    "def fun3(a):\n",
    "    a += 1\n",
    "\n",
    "a += 2\n",
    "print(a)\n"
   ]
  },
  {
   "cell_type": "code",
   "execution_count": 20,
   "metadata": {},
   "outputs": [
    {
     "name": "stdout",
     "output_type": "stream",
     "text": [
      "18\n"
     ]
    }
   ],
   "source": [
    "def foo(i):\n",
    "    return 2*i*i\n",
    "\n",
    "def goo(x, y):\n",
    "    return x(y)\n",
    "\n",
    "a = goo(foo, 3)\n",
    "print(a)\n"
   ]
  },
  {
   "cell_type": "code",
   "execution_count": 21,
   "metadata": {},
   "outputs": [
    {
     "name": "stdout",
     "output_type": "stream",
     "text": [
      "True\n",
      "True\n"
     ]
    }
   ],
   "source": [
    "def is_number(x):\n",
    "    if isinstance(x, int):\n",
    "        return True\n",
    "    elif isinstance(x, float):\n",
    "        return True\n",
    "    return False\n",
    "\n",
    "print(is_number(5.5))\n",
    "print(is_number(42))\n"
   ]
  },
  {
   "cell_type": "code",
   "execution_count": 22,
   "metadata": {},
   "outputs": [
    {
     "data": {
      "text/plain": [
       "[\"how's\", 'going', 'coding']"
      ]
     },
     "execution_count": 22,
     "metadata": {},
     "output_type": "execute_result"
    }
   ],
   "source": [
    "def average_words(strings):\n",
    "    found = []\n",
    "    for item in strings:\n",
    "        if 4 < len(item) < 8:\n",
    "            found.append(item)\n",
    "    return found\n",
    "\n",
    "average_words([\"sup\", \"how's\", \"it\", \"going\", \"reflecting\", \"on\", \"programs\", \"and\", \"coding\"])"
   ]
  },
  {
   "cell_type": "code",
   "execution_count": 26,
   "metadata": {},
   "outputs": [
    {
     "name": "stdout",
     "output_type": "stream",
     "text": [
      "The smallest item is: -11\n"
     ]
    },
    {
     "data": {
      "text/plain": [
       "-11"
      ]
     },
     "execution_count": 26,
     "metadata": {},
     "output_type": "execute_result"
    }
   ],
   "source": [
    "def find_min(numbers):\n",
    "    counter = 0\n",
    "    for item in numbers:\n",
    "        if item < counter:\n",
    "            counter = item\n",
    "    print(f\"The smallest item is: {counter}\")\n",
    "    return counter\n",
    "\n",
    "find_min([10, 3, -4, -11])"
   ]
  },
  {
   "cell_type": "markdown",
   "metadata": {},
   "source": [
    "my_function(\"David\") → \"David är en riktig hacker\""
   ]
  },
  {
   "cell_type": "code",
   "execution_count": 29,
   "metadata": {},
   "outputs": [
    {
     "name": "stdout",
     "output_type": "stream",
     "text": [
      "david är en bra hacker \n"
     ]
    }
   ],
   "source": [
    "def my_function(name):\n",
    "    print(name+\" är en bra hacker \") \n",
    "\n",
    "my_function(\"david\")   "
   ]
  },
  {
   "cell_type": "markdown",
   "metadata": {},
   "source": [
    "eko(\"hej\") → skriver ut \"hejhej\""
   ]
  },
  {
   "cell_type": "code",
   "execution_count": 31,
   "metadata": {},
   "outputs": [
    {
     "name": "stdout",
     "output_type": "stream",
     "text": [
      "jag har inget jobbjag har inget jobbjag har inget jobbjag har inget jobb\n"
     ]
    }
   ],
   "source": [
    "def eko(eko):\n",
    "    print(eko*4)\n",
    "\n",
    "eko(\"jag har inget jobb\")"
   ]
  },
  {
   "cell_type": "markdown",
   "metadata": {},
   "source": [
    "eko(\"hej\", 3) → skriver ut \"hejhejhej\""
   ]
  },
  {
   "cell_type": "code",
   "execution_count": 41,
   "metadata": {},
   "outputs": [
    {
     "name": "stdout",
     "output_type": "stream",
     "text": [
      " jag är arbetslös jag är arbetslös jag är arbetslös jag är arbetslös jag är arbetslös\n"
     ]
    }
   ],
   "source": [
    "def eko(eko,count):\n",
    "    print(eko*count)\n",
    "\n",
    "eko(\" jag är arbetslös\",5)"
   ]
  },
  {
   "cell_type": "code",
   "execution_count": 42,
   "metadata": {},
   "outputs": [
    {
     "name": "stdout",
     "output_type": "stream",
     "text": [
      "32\n"
     ]
    }
   ],
   "source": [
    "\n",
    "end = 5\n",
    "y = 1\n",
    "def double_until(limit):\n",
    "    y = 1\n",
    "    for x in range(1, 100):\n",
    "        y *= 2\n",
    "        if x >= limit:\n",
    "            break\n",
    "    return y\n",
    "\n",
    "y = double_until(end)\n",
    "print(y)\n"
   ]
  },
  {
   "cell_type": "code",
   "execution_count": 44,
   "metadata": {},
   "outputs": [
    {
     "data": {
      "text/plain": [
       "3"
      ]
     },
     "execution_count": 44,
     "metadata": {},
     "output_type": "execute_result"
    }
   ],
   "source": [
    "def last(lst):\n",
    "    return lst[-1]\n",
    "\n",
    "last([1, 2, 3])"
   ]
  },
  {
   "cell_type": "code",
   "execution_count": 45,
   "metadata": {},
   "outputs": [
    {
     "data": {
      "text/plain": [
       "[2, 3]"
      ]
     },
     "execution_count": 45,
     "metadata": {},
     "output_type": "execute_result"
    }
   ],
   "source": [
    "def cut_edges(lst):\n",
    "    return lst[1:-1]\n",
    "\n",
    "cut_edges([1, 2, 3, 4])"
   ]
  },
  {
   "cell_type": "code",
   "execution_count": 46,
   "metadata": {},
   "outputs": [
    {
     "name": "stdout",
     "output_type": "stream",
     "text": [
      "2\n"
     ]
    }
   ],
   "source": [
    "def increase(x):\n",
    "    \n",
    "    x += 1\n",
    "    return x\n",
    "print(increase(1))\n"
   ]
  },
  {
   "cell_type": "code",
   "execution_count": 52,
   "metadata": {},
   "outputs": [
    {
     "name": "stdout",
     "output_type": "stream",
     "text": [
      "24.0\n",
      "**************************************************\n",
      "Listan har 3 element:\n",
      "1. a\n",
      "2. b\n",
      "3. 3.14\n"
     ]
    }
   ],
   "source": [
    "def average(x, y):\n",
    "    \"\"\"Calculate the average of two numbers\"\"\"\n",
    "    return (x + y) / 2\n",
    "\n",
    "print(average(40,8))\n",
    "\n",
    "\n",
    "\n",
    "print(\"*\"*50)\n",
    "\n",
    "\n",
    "def pretty_print(lst):\n",
    "    \"\"\"Print list contents in a formatted way\"\"\"\n",
    "    if not lst:\n",
    "        print(\"Listan är tom\")\n",
    "    else:\n",
    "        print(f\"Listan har {len(lst)} element:\")\n",
    "        for i, item in enumerate(lst, 1):\n",
    "            print(f\"{i}. {item}\")\n",
    "\n",
    "pretty_print([\"a\", \"b\", 3.14])"
   ]
  },
  {
   "cell_type": "markdown",
   "metadata": {},
   "source": [
    "# resten av uppgifter fick hjälp av AI"
   ]
  },
  {
   "cell_type": "code",
   "execution_count": 64,
   "metadata": {},
   "outputs": [
    {
     "name": "stdout",
     "output_type": "stream",
     "text": [
      "Version 1 - Number series:\n",
      "First number in series where sum exceeds 21: 7\n",
      "Sum at this point: 28\n",
      "\n",
      "Version 2 - Random cards:\n",
      "Drew card: 6, Current sum: 6\n",
      "Drew card: 6, Current sum: 12\n",
      "Drew card: 9, Current sum: 21\n",
      "Drew card: 5, Current sum: 26\n",
      "Final sum: 26\n"
     ]
    }
   ],
   "source": [
    "import random\n",
    "\n",
    "def find_first_over_21_series():\n",
    "    sum = 0\n",
    "    num = 1\n",
    "    while sum <= 21:\n",
    "        sum += num\n",
    "        num += 1\n",
    "    print(f\"First number in series where sum exceeds 21: {num-1}\")\n",
    "    print(f\"Sum at this point: {sum}\")\n",
    "\n",
    "def find_first_over_21_cards():\n",
    "    sum = 0\n",
    "    while sum <= 21:\n",
    "        card = random.randint(1, 13)\n",
    "        sum += card\n",
    "        print(f\"Drew card: {card}, Current sum: {sum}\")\n",
    "    print(f\"Final sum: {sum}\")\n",
    "\n",
    "# Test both versions\n",
    "print(\"Version 1 - Number series:\")\n",
    "find_first_over_21_series()\n",
    "\n",
    "print(\"\\nVersion 2 - Random cards:\")\n",
    "find_first_over_21_cards()"
   ]
  },
  {
   "cell_type": "code",
   "execution_count": 70,
   "metadata": {},
   "outputs": [
    {
     "name": "stdout",
     "output_type": "stream",
     "text": [
      "Din hand:\n",
      "spader fem\n",
      "spader sju\n",
      "ruter ess\n",
      "klöver sex\n",
      "ruter kung\n",
      "\n",
      "Utvärdering:\n",
      "Ingen pokerhand\n"
     ]
    }
   ],
   "source": [
    "import random\n",
    "\n",
    "def get_random_card():\n",
    "    \"\"\"Generate a random card as [suit, value]\"\"\"\n",
    "    suits = [\"hjärter\", \"ruter\", \"spader\", \"klöver\"]\n",
    "    value = random.randint(2, 14)\n",
    "    return [random.choice(suits), value]\n",
    "\n",
    "def has_same_value(card1, card2):\n",
    "    \"\"\"Check if two cards have the same value\"\"\"\n",
    "    return card1[1] == card2[1]\n",
    "\n",
    "def pretty_print_card(card):\n",
    "    \"\"\"Convert card to readable format\"\"\"\n",
    "    values = {2: \"två\", 3: \"tre\", 4: \"fyra\", 5: \"fem\", 6: \"sex\", \n",
    "             7: \"sju\", 8: \"åtta\", 9: \"nio\", 10: \"tio\",\n",
    "             11: \"knekt\", 12: \"dam\", 13: \"kung\", 14: \"ess\"}\n",
    "    return f\"{card[0]} {values[card[1]]}\"\n",
    "\n",
    "def poker_hand(cards):\n",
    "    \"\"\"Evaluate a poker hand\"\"\"\n",
    "    # Check for pairs\n",
    "    values = [card[1] for card in cards]\n",
    "    for value in set(values):\n",
    "        if values.count(value) == 2:\n",
    "            return f\"Du fick ett par med valören: {value}\"\n",
    "    return \"Ingen pokerhand\"\n",
    "\n",
    "# Test the functions\n",
    "test_hand = [get_random_card() for _ in range(5)]\n",
    "print(\"Din hand:\")\n",
    "for card in test_hand:\n",
    "    print(pretty_print_card(card))\n",
    "print(\"\\nUtvärdering:\")\n",
    "print(poker_hand(test_hand))"
   ]
  },
  {
   "cell_type": "code",
   "execution_count": null,
   "metadata": {},
   "outputs": [],
   "source": []
  },
  {
   "cell_type": "code",
   "execution_count": 74,
   "metadata": {},
   "outputs": [],
   "source": [
    "import turtle as t\n",
    "\n",
    "# Konfiguration\n",
    "t.speed(0)  # Snabbaste hastighet\n",
    "t.hideturtle()  # Dölj turtle-cursorn för renare ritning\n",
    "\n",
    "### Uppgift 1: Funktion som ritar en kvadrat\n",
    "def square(size):\n",
    "    \"\"\"Ritar en kvadrat med given sidlängd\"\"\"\n",
    "    for _ in range(4):\n",
    "        t.forward(size)\n",
    "        t.left(90)\n",
    "\n",
    "### Uppgift 2: Funktion som flyttar pennan utan att rita\n",
    "def move_next(distance=100):\n",
    "    \"\"\"Flyttar pennan ett givet avstånd till höger utan att rita\"\"\"\n",
    "    t.penup()\n",
    "    t.forward(distance)\n",
    "    t.pendown()\n",
    "\n",
    "### Uppgift 3: Funktion som ritar en cirkel-liknande form\n",
    "def circle_segments(segments, length, angle):\n",
    "    \"\"\"Ritar en cirkel-liknande form med givna segment, längd och vinkel\"\"\"\n",
    "    for _ in range(segments):\n",
    "        t.forward(length)\n",
    "        t.right(angle)\n",
    "\n",
    "### Uppgift 4: Funktioner som ritar bokstäverna i \"PYTHON\"\n",
    "def draw_P(size):\n",
    "    t.setheading(90)  # Peka uppåt\n",
    "    t.forward(size)\n",
    "    t.right(90)\n",
    "    for _ in range(180):\n",
    "        t.forward(size/180)\n",
    "        t.right(1)\n",
    "\n",
    "def draw_Y(size):\n",
    "    t.setheading(90)\n",
    "    t.forward(size/2)\n",
    "    t.right(30)\n",
    "    t.forward(size/2)\n",
    "    t.backward(size/2)\n",
    "    t.left(60)\n",
    "    t.forward(size/2)\n",
    "\n",
    "def draw_T(size):\n",
    "    t.setheading(90)\n",
    "    t.forward(size)\n",
    "    t.right(90)\n",
    "    t.backward(size/2)\n",
    "    t.forward(size)\n",
    "\n",
    "def draw_H(size):\n",
    "    t.setheading(90)\n",
    "    t.forward(size)\n",
    "    t.backward(size/2)\n",
    "    t.right(90)\n",
    "    t.forward(size/2)\n",
    "    t.left(90)\n",
    "    t.forward(size/2)\n",
    "    t.backward(size)\n",
    "\n",
    "def draw_O(size):\n",
    "    t.circle(size/2)\n",
    "\n",
    "def draw_N(size):\n",
    "    t.setheading(90)\n",
    "    t.forward(size)\n",
    "    t.right(150)\n",
    "    t.forward(size*1.15)\n",
    "    t.left(150)\n",
    "    t.forward(size)\n",
    "\n",
    "def draw_PYTHON(size=100):\n",
    "    \"\"\"Ritar ordet 'PYTHON' med turtle\"\"\"\n",
    "    t.penup()\n",
    "    t.goto(-300, 0)  # Startposition\n",
    "    t.pendown()\n",
    "    \n",
    "    draw_P(size)\n",
    "    move_next(size*1.2)\n",
    "    draw_Y(size)\n",
    "    move_next(size*1.2)\n",
    "    draw_T(size)\n",
    "    move_next(size*1.2)\n",
    "    draw_H(size)\n",
    "    move_next(size*1.2)\n",
    "    draw_O(size)\n",
    "    move_next(size*1.2)\n",
    "    draw_N(size)\n",
    "\n",
    "### Bonusuppgift: Rekursivt ritande av en Koch-snöflinga\n",
    "def koch_curve(size, depth):\n",
    "    \"\"\"Ritar en Koch-kurva med given storlek och djup\"\"\"\n",
    "    if depth == 0:\n",
    "        t.forward(size)\n",
    "    else:\n",
    "        koch_curve(size/3, depth-1)\n",
    "        t.left(60)\n",
    "        koch_curve(size/3, depth-1)\n",
    "        t.right(120)\n",
    "        koch_curve(size/3, depth-1)\n",
    "        t.left(60)\n",
    "        koch_curve(size/3, depth-1)\n",
    "\n",
    "def koch_snowflake(size, depth):\n",
    "    \"\"\"Ritar en Koch-snöflinga med given storlek och djup\"\"\"\n",
    "    for _ in range(3):\n",
    "        koch_curve(size, depth)\n",
    "        t.right(120)\n",
    "\n",
    "### Huvudprogram\n",
    "if __name__ == \"__main__\":\n",
    "    # Rita kvadrat och flytta\n",
    "    square(100)\n",
    "    move_next(150)\n",
    "    square(100)\n",
    "\n",
    "    # Rita cirkel-liknande form\n",
    "    t.penup()\n",
    "    t.goto(-200, -100)\n",
    "    t.pendown()\n",
    "    circle_segments(36, 10, 10)  # Cirkel med 36 segment\n",
    "\n",
    "    # Rita ordet \"PYTHON\"\n",
    "    t.penup()\n",
    "    t.goto(-300, 100)\n",
    "    t.pendown()\n",
    "    draw_PYTHON()\n",
    "\n",
    "    # Rita Koch-snöflinga\n",
    "    t.penup()\n",
    "    t.goto(100, -150)\n",
    "    t.pendown()\n",
    "    koch_snowflake(200, 4)  # Snöflinga med storlek 200 och djup 4\n",
    "\n",
    "    # Avsluta\n",
    "    t.done()"
   ]
  }
 ],
 "metadata": {
  "kernelspec": {
   "display_name": "Python 3",
   "language": "python",
   "name": "python3"
  },
  "language_info": {
   "codemirror_mode": {
    "name": "ipython",
    "version": 3
   },
   "file_extension": ".py",
   "mimetype": "text/x-python",
   "name": "python",
   "nbconvert_exporter": "python",
   "pygments_lexer": "ipython3",
   "version": "3.10.8"
  }
 },
 "nbformat": 4,
 "nbformat_minor": 2
}
