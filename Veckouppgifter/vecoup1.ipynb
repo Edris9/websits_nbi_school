{
 "cells": [
  {
   "cell_type": "markdown",
   "metadata": {},
   "source": [
    "###  Använd input för att be användaren om ett heltal. Spara värdet i en variabel. Omvandla variabelns värde till ett heltal, och skriv ut det för att testa om du har gjort rätt.\n",
    "### Kodexempel med input:\n",
    "### x = input(\"Fråga här\")\n"
   ]
  },
  {
   "cell_type": "markdown",
   "metadata": {},
   "source": [
    "#### 1b Fråga användaren efter ett annat heltal. Skriv ut summan av talen, alltså tal1 + tal2.\n",
    "#### Testa genom att hitta på två tal och räkna ut summan i huvudet. Kontrollera om programmet räknar rätt.\n"
   ]
  },
  {
   "cell_type": "code",
   "execution_count": 1,
   "metadata": {},
   "outputs": [
    {
     "name": "stdout",
     "output_type": "stream",
     "text": [
      "8\n"
     ]
    }
   ],
   "source": [
    "x = int(input(\"Skriv ditt tal här: \"))\n",
    "y= int(input(\"Skriv ditt andra tal: \"))\n",
    "\n",
    "\n",
    "result = x + y \n",
    "print(result)"
   ]
  },
  {
   "cell_type": "markdown",
   "metadata": {},
   "source": [
    "#### Nu är det dags att köpa vinterkläder. Du ser en fin jacka som kostar 2000 kronor. Jackan är på rea, 50%. Skriv ett program som räknar ut hur mycket du behöver betala"
   ]
  },
  {
   "cell_type": "code",
   "execution_count": 12,
   "metadata": {},
   "outputs": [
    {
     "name": "stdout",
     "output_type": "stream",
     "text": [
      "Jackans pris är 100 kr\n"
     ]
    }
   ],
   "source": [
    "jacka_pris = 200\n",
    "rea = 50\n",
    "print(f\"Jackans pris är {jacka_pris * rea / 100:.0f} kr\")"
   ]
  },
  {
   "cell_type": "code",
   "execution_count": null,
   "metadata": {},
   "outputs": [],
   "source": []
  },
  {
   "cell_type": "markdown",
   "metadata": {},
   "source": [
    "#### Gör om programmet så att användaren kan skriva in en procentsats.\n",
    "#### Testa genom att hitta på en procentsats och räkna ut vad programmet ska svara med, innan du kör det. Till exempel 10%, som är 200 kr. Då ska jackan kosta 2000 - 200 == 1800 kr.\n"
   ]
  },
  {
   "cell_type": "code",
   "execution_count": 14,
   "metadata": {},
   "outputs": [
    {
     "name": "stdout",
     "output_type": "stream",
     "text": [
      "Jackans pris efter rabatt är 1800 kr\n"
     ]
    }
   ],
   "source": [
    "rea_procent = int(input(\"Hur mycket rabatt har du? \"))\n",
    "jacka_pris2 = 2000\n",
    "final_price = jacka_pris2 * (1 - rea_procent / 100)\n",
    "print(f\"Jackans pris efter rabatt är {final_price:.0f} kr\")\n"
   ]
  },
  {
   "cell_type": "code",
   "execution_count": null,
   "metadata": {},
   "outputs": [],
   "source": []
  },
  {
   "cell_type": "markdown",
   "metadata": {},
   "source": [
    "#### Det är ca 470 km mellan Stockholm och Göteborg. Skriv ett program som räknar ut hur lång tid det tar att köra från Stockholm till Göteborg. Du behöver fråga användaren hur fort man ska köra, i km/h"
   ]
  },
  {
   "cell_type": "code",
   "execution_count": 18,
   "metadata": {},
   "outputs": [
    {
     "name": "stdout",
     "output_type": "stream",
     "text": [
      "Det tar 4.70 timmar att köra från Stockholm till Göteborg.\n",
      "Om du kör 100 per/km\n"
     ]
    }
   ],
   "source": [
    "\n",
    "stracka = 470  # avstånd i km\n",
    "hastighet_kmh = int(input(\"Hur fort ska du köra (km/h)? \"))\n",
    "hastighet_ms = hastighet_kmh / 3.6  # omvandla till m/s\n",
    "\n",
    "tid = (stracka * 1000) / hastighet_ms  # omvandla sträcka till meter och räkna ut tiden i sekunder\n",
    "tid_timmar = tid / 3600  # omvandla tiden till timmar\n",
    "\n",
    "print(f\"Det tar {tid_timmar:.2f} timmar att köra från Stockholm till Göteborg.\\nOm du kör {hastighet_kmh} per/km\")\n"
   ]
  },
  {
   "cell_type": "markdown",
   "metadata": {},
   "source": [
    "## Gör så att programmet svarar i minuter i stället för timmar"
   ]
  },
  {
   "cell_type": "code",
   "execution_count": null,
   "metadata": {},
   "outputs": [
    {
     "name": "stdout",
     "output_type": "stream",
     "text": [
      "Det tar 300.00 minuter att köra från Stockholm till Göteborg.\n",
      "Om du kör 94 per/km\n"
     ]
    }
   ],
   "source": [
    "stracka = 470  # avstånd i km\n",
    "hastighet_kmh = int(input(\"Hur fort ska du köra (km/h)? \"))\n",
    "hastighet_ms = hastighet_kmh / 3.6  # omvandla till m/s\n",
    "\n",
    "tid = (stracka * 1000) / hastighet_ms  # omvandla sträcka till meter och räkna ut tiden i sekunder\n",
    "tid_timmar = tid / 60  # omvandla tiden till minuter\n",
    "\n",
    "print(f\"Det tar {tid_timmar:.2f} minuter att köra från Stockholm till Göteborg.\\nOm du kör {hastighet_kmh} per/km\")"
   ]
  },
  {
   "cell_type": "markdown",
   "metadata": {},
   "source": [
    "####  (svårare) Nu ska programmet svara i hela timmar och minuter.\n",
    "Tips: använd operatorerna // och %. Heltalsdivision // dividerar och avrundar nedåt till närmaste heltal. Procent % räknar ut resten vid division med heltal.\n"
   ]
  },
  {
   "cell_type": "code",
   "execution_count": 22,
   "metadata": {},
   "outputs": [
    {
     "name": "stdout",
     "output_type": "stream",
     "text": [
      "Det tar 4 timmar och 42 minuter att köra från Stockholm till Göteborg.\n",
      "Om du kör 100 km/h.\n"
     ]
    }
   ],
   "source": [
    "stracka = 470  # avstånd i km\n",
    "hastighet_kmh = int(input(\"Hur fort ska du köra (km/h)? \"))\n",
    "hastighet_ms = hastighet_kmh / 3.6  # omvandla till m/s\n",
    "\n",
    "tid = (stracka * 1000) / hastighet_ms  # omvandla sträcka till meter och räkna ut tiden i sekunder\n",
    "tid_timmar = int(tid // 3600)  # Heltalsdivision för hela timmar\n",
    "tid_minuter = int((tid % 3600) // 60)  # Resten i sekunder omvandlas till minuter\n",
    "\n",
    "print(f\"Det tar {tid_timmar} timmar och {tid_minuter} minuter att köra från Stockholm till Göteborg.\\nOm du kör {hastighet_kmh} km/h.\")\n"
   ]
  },
  {
   "cell_type": "code",
   "execution_count": null,
   "metadata": {},
   "outputs": [],
   "source": []
  },
  {
   "cell_type": "markdown",
   "metadata": {},
   "source": [
    "#### Skriv ett program som räknar ut längden på hypotenusan i en rätvinklig triangel. Användaren behöver skriva in längden på de två kortare sidorna.\n",
    "Tips 1: fråga en AI om formeln Pythagoras sats. Men var noga med att inte fråga efter kod som löser uppgiften!\n",
    "Tips 2: räkna ut roten med math.sqrt().\n",
    "\n",
    "Som testdata kan du använda triangeln med sidorna 3, 4 och 5:\n"
   ]
  },
  {
   "cell_type": "code",
   "execution_count": 28,
   "metadata": {},
   "outputs": [
    {
     "name": "stdout",
     "output_type": "stream",
     "text": [
      "Hypotenusan är 7\n"
     ]
    }
   ],
   "source": [
    "import math\n",
    "\n",
    "a = 3\n",
    "\n",
    "b = 4\n",
    "\n",
    "c = 5\n",
    "\n",
    "\n",
    "sidor = math.sqrt(a**2 + b**2 + c**2)\n",
    "\n",
    "print(f\"Hypotenusan är {sidor:.0f}\")\n"
   ]
  },
  {
   "cell_type": "code",
   "execution_count": 29,
   "metadata": {},
   "outputs": [
    {
     "name": "stdout",
     "output_type": "stream",
     "text": [
      "Hypotenusan är 6\n"
     ]
    }
   ],
   "source": [
    "a = float(input(\"Ange längden på den första sidan (a): \"))\n",
    "b = float(input(\"Ange längden på den andra sidan (b): \"))\n",
    "\n",
    "# Beräkna hypotenusan\n",
    "c = math.sqrt(a**2 + b**2)\n",
    "\n",
    "# Skriv ut resultatet\n",
    "print(f\"Hypotenusan är {c:.0f}\")"
   ]
  },
  {
   "cell_type": "code",
   "execution_count": null,
   "metadata": {},
   "outputs": [],
   "source": []
  },
  {
   "cell_type": "markdown",
   "metadata": {},
   "source": [
    "## Skriv ett program som talar om dagens datum."
   ]
  },
  {
   "cell_type": "code",
   "execution_count": 32,
   "metadata": {},
   "outputs": [
    {
     "name": "stdout",
     "output_type": "stream",
     "text": [
      "2025-02-10 13:18:06.610980\n",
      "2025-02-10\n"
     ]
    }
   ],
   "source": [
    "from datetime import datetime\n",
    "print(datetime.now())\n",
    "from datetime import date\n",
    "\n",
    "print(date.today())"
   ]
  },
  {
   "cell_type": "code",
   "execution_count": null,
   "metadata": {},
   "outputs": [],
   "source": []
  }
 ],
 "metadata": {
  "kernelspec": {
   "display_name": "Python 3",
   "language": "python",
   "name": "python3"
  },
  "language_info": {
   "codemirror_mode": {
    "name": "ipython",
    "version": 3
   },
   "file_extension": ".py",
   "mimetype": "text/x-python",
   "name": "python",
   "nbconvert_exporter": "python",
   "pygments_lexer": "ipython3",
   "version": "3.10.8"
  }
 },
 "nbformat": 4,
 "nbformat_minor": 2
}
